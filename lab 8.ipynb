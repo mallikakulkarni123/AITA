{
  "nbformat": 4,
  "nbformat_minor": 0,
  "metadata": {
    "colab": {
      "provenance": []
    },
    "kernelspec": {
      "name": "python3",
      "display_name": "Python 3"
    },
    "language_info": {
      "name": "python"
    }
  },
  "cells": [
    {
      "cell_type": "code",
      "source": [
        "# Importing required libraries\n",
        "import nltk\n",
        "from nltk.tokenize import sent_tokenize, word_tokenize\n",
        "from nltk.corpus import stopwords\n",
        "from nltk.probability import FreqDist\n",
        "import string\n",
        "\n",
        "# Ensure required resources are downloaded\n",
        "nltk.download('punkt')\n",
        "nltk.download('stopwords')\n",
        "# Download the 'punkt_tab' resource\n",
        "nltk.download('punkt_tab') # This line is added to fix the LookupError\n",
        "\n",
        "# Function to generate a text summary\n",
        "def text_summarizer(text, num_sentences=3):\n",
        "    # Step 1: Tokenize sentences and words\n",
        "    sentences = sent_tokenize(text)\n",
        "    words = word_tokenize(text.lower())\n",
        "\n",
        "    # Step 2: Remove stopwords and punctuation\n",
        "    stop_words = set(stopwords.words('english'))\n",
        "    filtered_words = [\n",
        "        word for word in words if word not in stop_words and word not in string.punctuation\n",
        "    ]\n",
        "\n",
        "    # Step 3: Calculate word frequencies\n",
        "    word_frequencies = FreqDist(filtered_words)\n",
        "\n",
        "    # Step 4: Score sentences based on word frequencies\n",
        "    sentence_scores = {}\n",
        "    for sentence in sentences:\n",
        "        for word in word_tokenize(sentence.lower()):\n",
        "            if word in word_frequencies:\n",
        "                if sentence not in sentence_scores:\n",
        "                    sentence_scores[sentence] = word_frequencies[word]\n",
        "                else:\n",
        "                    sentence_scores[sentence] += word_frequencies[word]\n",
        "\n",
        "    # Step 5: Select top sentences for the summary\n",
        "    sorted_sentences = sorted(\n",
        "        sentence_scores.items(), key=lambda x: x[1], reverse=True\n",
        "    )\n",
        "    summarized_sentences = [item[0] for item in sorted_sentences[:num_sentences]]\n",
        "\n",
        "    # Return the summary\n",
        "    return ' '.join(summarized_sentences)\n",
        "\n",
        "\n",
        "# Sample text for summarization\n",
        "text = \"\"\"\n",
        "Natural Language Processing (NLP) is a fascinating field of Artificial Intelligence.\n",
        "It focuses on the interaction between humans and computers using natural language.\n",
        "NLP has numerous applications, including language translation, sentiment analysis,\n",
        "text summarization, and speech recognition. With the advent of large language models,\n",
        "NLP has seen remarkable progress. These models can understand and generate human-like\n",
        "text, enabling more interactive and intelligent systems. However, challenges like\n",
        "bias in data, ethical concerns, and computational costs still exist.\n",
        "\"\"\"\n",
        "\n",
        "# Generate a summary\n",
        "print(\"Original Text:\")\n",
        "print(text)\n",
        "\n",
        "summary = text_summarizer(text, num_sentences=2)\n",
        "print(\"\\nSummarized Text:\")\n",
        "print(summary)"
      ],
      "metadata": {
        "colab": {
          "base_uri": "https://localhost:8080/"
        },
        "id": "MG7SYHZ4jwec",
        "outputId": "db6a0f7a-03d2-40d3-97ae-884f9f2a0aa2"
      },
      "execution_count": 5,
      "outputs": [
        {
          "output_type": "stream",
          "name": "stderr",
          "text": [
            "[nltk_data] Downloading package punkt to /root/nltk_data...\n",
            "[nltk_data]   Package punkt is already up-to-date!\n",
            "[nltk_data] Downloading package stopwords to /root/nltk_data...\n",
            "[nltk_data]   Package stopwords is already up-to-date!\n",
            "[nltk_data] Downloading package punkt_tab to /root/nltk_data...\n",
            "[nltk_data]   Unzipping tokenizers/punkt_tab.zip.\n"
          ]
        },
        {
          "output_type": "stream",
          "name": "stdout",
          "text": [
            "Original Text:\n",
            "\n",
            "Natural Language Processing (NLP) is a fascinating field of Artificial Intelligence.\n",
            "It focuses on the interaction between humans and computers using natural language.\n",
            "NLP has numerous applications, including language translation, sentiment analysis,\n",
            "text summarization, and speech recognition. With the advent of large language models,\n",
            "NLP has seen remarkable progress. These models can understand and generate human-like\n",
            "text, enabling more interactive and intelligent systems. However, challenges like\n",
            "bias in data, ethical concerns, and computational costs still exist.\n",
            "\n",
            "\n",
            "Summarized Text:\n",
            "NLP has numerous applications, including language translation, sentiment analysis,\n",
            "text summarization, and speech recognition. \n",
            "Natural Language Processing (NLP) is a fascinating field of Artificial Intelligence.\n"
          ]
        }
      ]
    }
  ]
}